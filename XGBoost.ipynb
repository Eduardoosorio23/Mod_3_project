{
 "cells": [
  {
   "cell_type": "code",
   "execution_count": 1,
   "metadata": {},
   "outputs": [],
   "source": [
    "import xgboost as xgb\n",
    "import numpy as np \n",
    "import pandas as pd \n",
    "from sklearn.model_selection import train_test_split\n",
    "from sklearn.preprocessing import StandardScaler\n",
    "from sklearn.metrics import accuracy_score, roc_curve, auc\n",
    "from sklearn.model_selection import GridSearchCV\n",
    "from collections import Counter\n",
    "from imblearn.under_sampling import TomekLinks\n",
    "from sklearn.metrics import classification_report, confusion_matrix\n",
    "import warnings\n",
    "warnings.filterwarnings('ignore')\n",
    "import matplotlib.pyplot as plt\n",
    "import seaborn as sns\n",
    "# sns.set_style('darkgrid')\n",
    "%matplotlib inline\n",
    "\n",
    "from imblearn.over_sampling import SMOTE\n",
    "\n",
    "smote = SMOTE()"
   ]
  },
  {
   "cell_type": "code",
   "execution_count": 2,
   "metadata": {},
   "outputs": [],
   "source": [
    "from sklearn.metrics import precision_score, recall_score, accuracy_score, f1_score\n",
    "from sklearn.metrics import plot_confusion_matrix\n",
    "\n",
    "def print_metrics(labels, preds, X_test, y_train, y_hat_train):\n",
    " \n",
    "        plot_confusion_matrix(model, X_test, y_test, values_format='.3g')\n",
    "        \n",
    "        print('Training Precision: ', precision_score(y_train, y_hat_train, average='macro'))\n",
    "        print('Testing Precision: ', precision_score(labels, preds, average='macro'))\n",
    "        print('Training Recall: ', recall_score(y_train, y_hat_train, average='macro'))\n",
    "        print('Testing Recall: ', recall_score(labels, preds, average='macro'))\n",
    "        print('Training Accuracy: ', accuracy_score(y_train, y_hat_train))\n",
    "        print('Testing Accuracy: ', accuracy_score(labels, preds))\n",
    "        print('Training F1-Score: ', f1_score(y_train, y_hat_train, average='macro'))\n",
    "        print('Testing F1-Score: ', f1_score(labels, preds, average='macro'))\n",
    "        "
   ]
  },
  {
   "cell_type": "code",
   "execution_count": 3,
   "metadata": {
    "scrolled": false
   },
   "outputs": [
    {
     "data": {
      "text/html": [
       "<div>\n",
       "<style scoped>\n",
       "    .dataframe tbody tr th:only-of-type {\n",
       "        vertical-align: middle;\n",
       "    }\n",
       "\n",
       "    .dataframe tbody tr th {\n",
       "        vertical-align: top;\n",
       "    }\n",
       "\n",
       "    .dataframe thead th {\n",
       "        text-align: right;\n",
       "    }\n",
       "</style>\n",
       "<table border=\"1\" class=\"dataframe\">\n",
       "  <thead>\n",
       "    <tr style=\"text-align: right;\">\n",
       "      <th></th>\n",
       "      <th>account length</th>\n",
       "      <th>area code</th>\n",
       "      <th>international plan</th>\n",
       "      <th>voice mail plan</th>\n",
       "      <th>number vmail messages</th>\n",
       "      <th>total day minutes</th>\n",
       "      <th>total day calls</th>\n",
       "      <th>total day charge</th>\n",
       "      <th>total eve minutes</th>\n",
       "      <th>total eve calls</th>\n",
       "      <th>total eve charge</th>\n",
       "      <th>total night minutes</th>\n",
       "      <th>total night calls</th>\n",
       "      <th>total night charge</th>\n",
       "      <th>total intl minutes</th>\n",
       "      <th>total intl calls</th>\n",
       "      <th>total intl charge</th>\n",
       "      <th>customer service calls</th>\n",
       "      <th>churn</th>\n",
       "    </tr>\n",
       "  </thead>\n",
       "  <tbody>\n",
       "    <tr>\n",
       "      <td>0</td>\n",
       "      <td>128</td>\n",
       "      <td>415</td>\n",
       "      <td>1</td>\n",
       "      <td>0</td>\n",
       "      <td>25</td>\n",
       "      <td>265.1</td>\n",
       "      <td>110</td>\n",
       "      <td>45.07</td>\n",
       "      <td>197.4</td>\n",
       "      <td>99</td>\n",
       "      <td>16.78</td>\n",
       "      <td>244.7</td>\n",
       "      <td>91</td>\n",
       "      <td>11.01</td>\n",
       "      <td>10.0</td>\n",
       "      <td>3</td>\n",
       "      <td>2.70</td>\n",
       "      <td>1</td>\n",
       "      <td>1</td>\n",
       "    </tr>\n",
       "    <tr>\n",
       "      <td>1</td>\n",
       "      <td>107</td>\n",
       "      <td>415</td>\n",
       "      <td>1</td>\n",
       "      <td>0</td>\n",
       "      <td>26</td>\n",
       "      <td>161.6</td>\n",
       "      <td>123</td>\n",
       "      <td>27.47</td>\n",
       "      <td>195.5</td>\n",
       "      <td>103</td>\n",
       "      <td>16.62</td>\n",
       "      <td>254.4</td>\n",
       "      <td>103</td>\n",
       "      <td>11.45</td>\n",
       "      <td>13.7</td>\n",
       "      <td>3</td>\n",
       "      <td>3.70</td>\n",
       "      <td>1</td>\n",
       "      <td>1</td>\n",
       "    </tr>\n",
       "    <tr>\n",
       "      <td>2</td>\n",
       "      <td>137</td>\n",
       "      <td>415</td>\n",
       "      <td>1</td>\n",
       "      <td>1</td>\n",
       "      <td>0</td>\n",
       "      <td>243.4</td>\n",
       "      <td>114</td>\n",
       "      <td>41.38</td>\n",
       "      <td>121.2</td>\n",
       "      <td>110</td>\n",
       "      <td>10.30</td>\n",
       "      <td>162.6</td>\n",
       "      <td>104</td>\n",
       "      <td>7.32</td>\n",
       "      <td>12.2</td>\n",
       "      <td>5</td>\n",
       "      <td>3.29</td>\n",
       "      <td>0</td>\n",
       "      <td>1</td>\n",
       "    </tr>\n",
       "    <tr>\n",
       "      <td>3</td>\n",
       "      <td>84</td>\n",
       "      <td>408</td>\n",
       "      <td>0</td>\n",
       "      <td>1</td>\n",
       "      <td>0</td>\n",
       "      <td>299.4</td>\n",
       "      <td>71</td>\n",
       "      <td>50.90</td>\n",
       "      <td>61.9</td>\n",
       "      <td>88</td>\n",
       "      <td>5.26</td>\n",
       "      <td>196.9</td>\n",
       "      <td>89</td>\n",
       "      <td>8.86</td>\n",
       "      <td>6.6</td>\n",
       "      <td>7</td>\n",
       "      <td>1.78</td>\n",
       "      <td>2</td>\n",
       "      <td>1</td>\n",
       "    </tr>\n",
       "    <tr>\n",
       "      <td>4</td>\n",
       "      <td>75</td>\n",
       "      <td>415</td>\n",
       "      <td>0</td>\n",
       "      <td>1</td>\n",
       "      <td>0</td>\n",
       "      <td>166.7</td>\n",
       "      <td>113</td>\n",
       "      <td>28.34</td>\n",
       "      <td>148.3</td>\n",
       "      <td>122</td>\n",
       "      <td>12.61</td>\n",
       "      <td>186.9</td>\n",
       "      <td>121</td>\n",
       "      <td>8.41</td>\n",
       "      <td>10.1</td>\n",
       "      <td>3</td>\n",
       "      <td>2.73</td>\n",
       "      <td>3</td>\n",
       "      <td>1</td>\n",
       "    </tr>\n",
       "  </tbody>\n",
       "</table>\n",
       "</div>"
      ],
      "text/plain": [
       "   account length  area code  international plan  voice mail plan  \\\n",
       "0             128        415                   1                0   \n",
       "1             107        415                   1                0   \n",
       "2             137        415                   1                1   \n",
       "3              84        408                   0                1   \n",
       "4              75        415                   0                1   \n",
       "\n",
       "   number vmail messages  total day minutes  total day calls  \\\n",
       "0                     25              265.1              110   \n",
       "1                     26              161.6              123   \n",
       "2                      0              243.4              114   \n",
       "3                      0              299.4               71   \n",
       "4                      0              166.7              113   \n",
       "\n",
       "   total day charge  total eve minutes  total eve calls  total eve charge  \\\n",
       "0             45.07              197.4               99             16.78   \n",
       "1             27.47              195.5              103             16.62   \n",
       "2             41.38              121.2              110             10.30   \n",
       "3             50.90               61.9               88              5.26   \n",
       "4             28.34              148.3              122             12.61   \n",
       "\n",
       "   total night minutes  total night calls  total night charge  \\\n",
       "0                244.7                 91               11.01   \n",
       "1                254.4                103               11.45   \n",
       "2                162.6                104                7.32   \n",
       "3                196.9                 89                8.86   \n",
       "4                186.9                121                8.41   \n",
       "\n",
       "   total intl minutes  total intl calls  total intl charge  \\\n",
       "0                10.0                 3               2.70   \n",
       "1                13.7                 3               3.70   \n",
       "2                12.2                 5               3.29   \n",
       "3                 6.6                 7               1.78   \n",
       "4                10.1                 3               2.73   \n",
       "\n",
       "   customer service calls  churn  \n",
       "0                       1      1  \n",
       "1                       1      1  \n",
       "2                       0      1  \n",
       "3                       2      1  \n",
       "4                       3      1  "
      ]
     },
     "execution_count": 3,
     "metadata": {},
     "output_type": "execute_result"
    }
   ],
   "source": [
    "df = pd.read_csv('Data/churm_data_cleaned.csv')\n",
    "df.head()#in the churn column True = 0, False = 1\n",
    "#in the international plan and voice mail plan columns, yes = 0, no = 1"
   ]
  },
  {
   "cell_type": "code",
   "execution_count": 4,
   "metadata": {
    "scrolled": true
   },
   "outputs": [
    {
     "data": {
      "text/plain": [
       "(3333, 19)"
      ]
     },
     "execution_count": 4,
     "metadata": {},
     "output_type": "execute_result"
    }
   ],
   "source": [
    "df.shape"
   ]
  },
  {
   "cell_type": "code",
   "execution_count": 5,
   "metadata": {
    "scrolled": true
   },
   "outputs": [
    {
     "name": "stdout",
     "output_type": "stream",
     "text": [
      "Raw counts: \n",
      "\n",
      "1    2850\n",
      "0     483\n",
      "Name: churn, dtype: int64\n",
      "-----------------------------------\n",
      "Normalized counts: \n",
      "\n",
      "1    0.855086\n",
      "0    0.144914\n",
      "Name: churn, dtype: float64\n"
     ]
    }
   ],
   "source": [
    "# Checking to see how the target varible is split up\n",
    "def value_counts(col):\n",
    "    print('Raw counts: \\n')\n",
    "    print(col.value_counts())\n",
    "    print('-----------------------------------')\n",
    "    print('Normalized counts: \\n')\n",
    "    print(col.value_counts(normalize=True))\n",
    "value_counts(df['churn'])#15% yes (people leaving), 85% no (people staying)"
   ]
  },
  {
   "cell_type": "code",
   "execution_count": 6,
   "metadata": {},
   "outputs": [],
   "source": [
    "# Splitting the target varible from the rest of the data set\n",
    "y = df['churn']\n",
    "X = df.drop('churn', axis=1, inplace=False)"
   ]
  },
  {
   "cell_type": "markdown",
   "metadata": {},
   "source": [
    "## Train Test Split:"
   ]
  },
  {
   "cell_type": "code",
   "execution_count": 7,
   "metadata": {},
   "outputs": [],
   "source": [
    "X_train, X_test, y_train, y_test = train_test_split(X, y, test_size=.20, random_state=42)"
   ]
  },
  {
   "cell_type": "markdown",
   "metadata": {},
   "source": [
    "## Resampling the data:"
   ]
  },
  {
   "cell_type": "code",
   "execution_count": 8,
   "metadata": {
    "scrolled": true
   },
   "outputs": [
    {
     "name": "stdout",
     "output_type": "stream",
     "text": [
      "Original dataset shape Counter({1: 2284, 0: 382})\n"
     ]
    }
   ],
   "source": [
    "print('Original dataset shape %s' % Counter(y_train))"
   ]
  },
  {
   "cell_type": "code",
   "execution_count": 9,
   "metadata": {},
   "outputs": [
    {
     "name": "stdout",
     "output_type": "stream",
     "text": [
      "Resampled dataset shape Counter({1: 2174, 0: 382})\n"
     ]
    }
   ],
   "source": [
    "# Using Tomek Links to split the training data into more well defined clusters\n",
    "tl = TomekLinks()\n",
    "X_res, y_res = tl.fit_resample(X_train, y_train)\n",
    "print('Resampled dataset shape %s' % Counter(y_res))"
   ]
  },
  {
   "cell_type": "code",
   "execution_count": 10,
   "metadata": {
    "scrolled": true
   },
   "outputs": [
    {
     "name": "stdout",
     "output_type": "stream",
     "text": [
      "Resampled dataset shape Counter({1: 2147, 0: 382})\n"
     ]
    }
   ],
   "source": [
    "X_res, y_res = tl.fit_resample(X_res, y_res)\n",
    "print('Resampled dataset shape %s' % Counter(y_res))"
   ]
  },
  {
   "cell_type": "code",
   "execution_count": 11,
   "metadata": {},
   "outputs": [],
   "source": [
    "#Need to turn the data into a DMatrix before we pass it through XGBoost\n",
    "D_train = xgb.DMatrix(X_res, label=y_res)\n",
    "D_test = xgb.DMatrix(X_test, label=y_test)"
   ]
  },
  {
   "cell_type": "code",
   "execution_count": 12,
   "metadata": {},
   "outputs": [],
   "source": [
    "y_train = y_res\n",
    "X_train = X_res"
   ]
  },
  {
   "cell_type": "markdown",
   "metadata": {},
   "source": [
    "## Fitting the Model:"
   ]
  },
  {
   "cell_type": "code",
   "execution_count": 13,
   "metadata": {},
   "outputs": [],
   "source": [
    "param = {}"
   ]
  },
  {
   "cell_type": "code",
   "execution_count": 14,
   "metadata": {},
   "outputs": [],
   "source": [
    "#Creating the classifier\n",
    "model = xgb.train(param, D_train, num_boost_round = 100)\n",
    "\n",
    "# Predict on the test set\n",
    "test_preds = model.predict(D_test)\n",
    "train_preds = model.predict(D_train)"
   ]
  },
  {
   "cell_type": "code",
   "execution_count": 15,
   "metadata": {},
   "outputs": [
    {
     "name": "stdout",
     "output_type": "stream",
     "text": [
      "Training Precision:  0.07552392249901146\n",
      "Testing Precision:  0.07571214392803598\n",
      "Training Recall:  0.5\n",
      "Testing Recall:  0.5\n",
      "Training Accuracy:  0.15104784499802293\n",
      "Testing Accuracy:  0.15142428785607195\n",
      "Training F1-Score:  0.13122638268636208\n",
      "Testing F1-Score:  0.13151041666666666\n",
      "The Confusion Matrix is:  \n",
      " [[101   0]\n",
      " [566   0]]\n"
     ]
    }
   ],
   "source": [
    "#Checking the test and train scores\n",
    "best_preds = np.asarray([np.argmax(line) for line in test_preds])\n",
    "best_preds_train = np.asarray([np.argmax(line) for line in train_preds])\n",
    "\n",
    "\n",
    "print('Training Precision: ', precision_score(y_train, best_preds_train, average='macro'))\n",
    "print('Testing Precision: ', precision_score(y_test, best_preds, average='macro'))\n",
    "print('Training Recall: ', recall_score(y_train, best_preds_train, average='macro'))\n",
    "print('Testing Recall: ', recall_score(y_test, best_preds, average='macro'))\n",
    "print('Training Accuracy: ', accuracy_score(y_train, best_preds_train))\n",
    "print('Testing Accuracy: ', accuracy_score(y_test, best_preds))\n",
    "print('Training F1-Score: ', f1_score(y_train, best_preds_train, average='macro'))\n",
    "print('Testing F1-Score: ', f1_score(y_test, best_preds, average='macro'))\n",
    "\n",
    "cm = confusion_matrix(y_test, (best_preds>0.5))\n",
    "print(('The Confusion Matrix is: '),'\\n', cm)"
   ]
  },
  {
   "cell_type": "markdown",
   "metadata": {},
   "source": [
    "## Running Gridsearch:"
   ]
  },
  {
   "cell_type": "code",
   "execution_count": 16,
   "metadata": {},
   "outputs": [
    {
     "name": "stdout",
     "output_type": "stream",
     "text": [
      "Fitting 5 folds for each of 160 candidates, totalling 800 fits\n"
     ]
    },
    {
     "name": "stderr",
     "output_type": "stream",
     "text": [
      "[Parallel(n_jobs=4)]: Using backend LokyBackend with 4 concurrent workers.\n",
      "[Parallel(n_jobs=4)]: Done  24 tasks      | elapsed:    2.8s\n",
      "[Parallel(n_jobs=4)]: Done 120 tasks      | elapsed:   13.1s\n",
      "[Parallel(n_jobs=4)]: Done 280 tasks      | elapsed:   33.3s\n",
      "[Parallel(n_jobs=4)]: Done 504 tasks      | elapsed:  1.0min\n",
      "[Parallel(n_jobs=4)]: Done 792 tasks      | elapsed:  1.7min\n",
      "[Parallel(n_jobs=4)]: Done 800 out of 800 | elapsed:  1.7min finished\n"
     ]
    },
    {
     "data": {
      "text/plain": [
       "GridSearchCV(cv=5, estimator=XGBClassifier(), n_jobs=4,\n",
       "             param_grid={'eta': [0.005, 0.01, 0.02, 0.3],\n",
       "                         'max_depth': [2, 3, 4, 5, 6],\n",
       "                         'num_class': [2, 3, 4, 5],\n",
       "                         'objective': ['multi:softprob', 'multi:softmax']},\n",
       "             scoring='recall', verbose=3)"
      ]
     },
     "execution_count": 16,
     "metadata": {},
     "output_type": "execute_result"
    }
   ],
   "source": [
    "#Running GridSearch to find the most optimal \n",
    "clf = xgb.XGBClassifier()\n",
    "parameters = {\n",
    "    'eta': [0.005, 0.01, 0.02, 0.3],  \n",
    "    'max_depth': [2, 3, 4, 5, 6],  \n",
    "    'objective': ['multi:softprob', 'multi:softmax'],\n",
    "    'num_class': [2, 3, 4, 5]} \n",
    "\n",
    "grid = GridSearchCV(clf,\n",
    "                    parameters, n_jobs=4,\n",
    "                    scoring=\"recall\",\n",
    "                    cv=5,\n",
    "                    verbose=3)\n",
    "#                     return_train_score=True)\n",
    "\n",
    "grid.fit(X_train, y_train)"
   ]
  },
  {
   "cell_type": "code",
   "execution_count": 17,
   "metadata": {
    "scrolled": true
   },
   "outputs": [
    {
     "data": {
      "text/plain": [
       "{'eta': 0.005, 'max_depth': 6, 'num_class': 2, 'objective': 'multi:softprob'}"
      ]
     },
     "execution_count": 17,
     "metadata": {},
     "output_type": "execute_result"
    }
   ],
   "source": [
    "grid.best_params_"
   ]
  },
  {
   "cell_type": "code",
   "execution_count": 18,
   "metadata": {},
   "outputs": [],
   "source": [
    "params_final = {'eta': 0.005, 'max_depth': 6, 'num_class': 2, 'objective': 'multi:softprob'}"
   ]
  },
  {
   "cell_type": "markdown",
   "metadata": {},
   "source": [
    "## Refitting the Model:"
   ]
  },
  {
   "cell_type": "code",
   "execution_count": 19,
   "metadata": {},
   "outputs": [],
   "source": [
    "model = xgb.train(params_final, D_train, num_boost_round = 100)\n",
    "\n",
    "# Fit the classifier\n",
    "# clf.fit(scaled_data_train, y_train)\n",
    "\n",
    "# Predict on the test set\n",
    "test_preds = model.predict(D_test)\n",
    "train_preds = model.predict(D_train)"
   ]
  },
  {
   "cell_type": "code",
   "execution_count": 20,
   "metadata": {},
   "outputs": [
    {
     "name": "stdout",
     "output_type": "stream",
     "text": [
      "Training Precision:  0.9723945316926821\n",
      "Testing Precision:  0.9157864334048522\n",
      "Training Recall:  0.8862701395103847\n",
      "Testing Recall:  0.8525522163523773\n",
      "Training Accuracy:  0.9640173981810992\n",
      "Testing Accuracy:  0.9430284857571214\n",
      "Training F1-Score:  0.9229821376281113\n",
      "Testing F1-Score:  0.8802173913043478\n",
      "The Confusion Matrix is:  \n",
      " [[ 73  28]\n",
      " [ 10 556]]\n"
     ]
    }
   ],
   "source": [
    "best_preds = np.asarray([np.argmax(line) for line in test_preds])\n",
    "best_preds_train = np.asarray([np.argmax(line) for line in train_preds])\n",
    "\n",
    "\n",
    "print('Training Precision: ', precision_score(y_train, best_preds_train, average='macro'))\n",
    "print('Testing Precision: ', precision_score(y_test, best_preds, average='macro'))\n",
    "print('Training Recall: ', recall_score(y_train, best_preds_train, average='macro'))\n",
    "print('Testing Recall: ', recall_score(y_test, best_preds, average='macro'))\n",
    "print('Training Accuracy: ', accuracy_score(y_train, best_preds_train))\n",
    "print('Testing Accuracy: ', accuracy_score(y_test, best_preds))\n",
    "print('Training F1-Score: ', f1_score(y_train, best_preds_train, average='macro'))\n",
    "print('Testing F1-Score: ', f1_score(y_test, best_preds, average='macro'))\n",
    "\n",
    "cm = confusion_matrix(y_test, (best_preds>0.5))\n",
    "print(('The Confusion Matrix is: '),'\\n', cm)"
   ]
  },
  {
   "cell_type": "markdown",
   "metadata": {},
   "source": [
    "## Feature Importance:"
   ]
  },
  {
   "cell_type": "code",
   "execution_count": 21,
   "metadata": {
    "scrolled": true
   },
   "outputs": [
    {
     "data": {
      "text/plain": [
       "{'total day minutes': 12.256599754262341,\n",
       " 'customer service calls': 34.66702330505799,\n",
       " 'international plan': 11.497913125135756,\n",
       " 'total intl calls': 12.02913982333334,\n",
       " 'total intl minutes': 12.508335373058173,\n",
       " 'total eve minutes': 5.116188415507278,\n",
       " 'number vmail messages': 0.5200236057503269,\n",
       " 'total day calls': 0.608268129506604,\n",
       " 'voice mail plan': 13.93933575054544,\n",
       " 'total eve calls': 0.553775402680793,\n",
       " 'total night calls': 0.873028187431884,\n",
       " 'total night minutes': 1.1726376506250282,\n",
       " 'account length': 0.4610846173936655,\n",
       " 'area code': 0.8445660736874999}"
      ]
     },
     "execution_count": 21,
     "metadata": {},
     "output_type": "execute_result"
    }
   ],
   "source": [
    "model.get_score(importance_type='gain')"
   ]
  },
  {
   "cell_type": "code",
   "execution_count": 22,
   "metadata": {
    "scrolled": false
   },
   "outputs": [
    {
     "data": {
      "text/html": [
       "<div>\n",
       "<style scoped>\n",
       "    .dataframe tbody tr th:only-of-type {\n",
       "        vertical-align: middle;\n",
       "    }\n",
       "\n",
       "    .dataframe tbody tr th {\n",
       "        vertical-align: top;\n",
       "    }\n",
       "\n",
       "    .dataframe thead th {\n",
       "        text-align: right;\n",
       "    }\n",
       "</style>\n",
       "<table border=\"1\" class=\"dataframe\">\n",
       "  <thead>\n",
       "    <tr style=\"text-align: right;\">\n",
       "      <th></th>\n",
       "      <th>0</th>\n",
       "    </tr>\n",
       "  </thead>\n",
       "  <tbody>\n",
       "    <tr>\n",
       "      <td>total day minutes</td>\n",
       "      <td>12.256600</td>\n",
       "    </tr>\n",
       "    <tr>\n",
       "      <td>customer service calls</td>\n",
       "      <td>34.667023</td>\n",
       "    </tr>\n",
       "    <tr>\n",
       "      <td>international plan</td>\n",
       "      <td>11.497913</td>\n",
       "    </tr>\n",
       "    <tr>\n",
       "      <td>total intl calls</td>\n",
       "      <td>12.029140</td>\n",
       "    </tr>\n",
       "    <tr>\n",
       "      <td>total intl minutes</td>\n",
       "      <td>12.508335</td>\n",
       "    </tr>\n",
       "    <tr>\n",
       "      <td>total eve minutes</td>\n",
       "      <td>5.116188</td>\n",
       "    </tr>\n",
       "    <tr>\n",
       "      <td>number vmail messages</td>\n",
       "      <td>0.520024</td>\n",
       "    </tr>\n",
       "    <tr>\n",
       "      <td>total day calls</td>\n",
       "      <td>0.608268</td>\n",
       "    </tr>\n",
       "    <tr>\n",
       "      <td>voice mail plan</td>\n",
       "      <td>13.939336</td>\n",
       "    </tr>\n",
       "    <tr>\n",
       "      <td>total eve calls</td>\n",
       "      <td>0.553775</td>\n",
       "    </tr>\n",
       "    <tr>\n",
       "      <td>total night calls</td>\n",
       "      <td>0.873028</td>\n",
       "    </tr>\n",
       "    <tr>\n",
       "      <td>total night minutes</td>\n",
       "      <td>1.172638</td>\n",
       "    </tr>\n",
       "    <tr>\n",
       "      <td>account length</td>\n",
       "      <td>0.461085</td>\n",
       "    </tr>\n",
       "    <tr>\n",
       "      <td>area code</td>\n",
       "      <td>0.844566</td>\n",
       "    </tr>\n",
       "  </tbody>\n",
       "</table>\n",
       "</div>"
      ],
      "text/plain": [
       "                                0\n",
       "total day minutes       12.256600\n",
       "customer service calls  34.667023\n",
       "international plan      11.497913\n",
       "total intl calls        12.029140\n",
       "total intl minutes      12.508335\n",
       "total eve minutes        5.116188\n",
       "number vmail messages    0.520024\n",
       "total day calls          0.608268\n",
       "voice mail plan         13.939336\n",
       "total eve calls          0.553775\n",
       "total night calls        0.873028\n",
       "total night minutes      1.172638\n",
       "account length           0.461085\n",
       "area code                0.844566"
      ]
     },
     "execution_count": 22,
     "metadata": {},
     "output_type": "execute_result"
    }
   ],
   "source": [
    "# Turnning model.get_score to into a dataframe\n",
    "df1 = pd.DataFrame.from_dict(model.get_score(importance_type='gain'), orient='index')\n",
    "df1"
   ]
  },
  {
   "cell_type": "code",
   "execution_count": 23,
   "metadata": {},
   "outputs": [],
   "source": [
    "df1.reset_index(level=0, inplace=True)"
   ]
  },
  {
   "cell_type": "code",
   "execution_count": 24,
   "metadata": {
    "scrolled": false
   },
   "outputs": [
    {
     "name": "stdout",
     "output_type": "stream",
     "text": [
      "                   columns  f_importance\n",
      "0        total day minutes     12.256600\n",
      "1   customer service calls     34.667023\n",
      "2       international plan     11.497913\n",
      "3         total intl calls     12.029140\n",
      "4       total intl minutes     12.508335\n",
      "5        total eve minutes      5.116188\n",
      "6    number vmail messages      0.520024\n",
      "7          total day calls      0.608268\n",
      "8          voice mail plan     13.939336\n",
      "9          total eve calls      0.553775\n",
      "10       total night calls      0.873028\n",
      "11     total night minutes      1.172638\n",
      "12          account length      0.461085\n",
      "13               area code      0.844566\n"
     ]
    }
   ],
   "source": [
    "df1 = df1.rename(columns={\"index\": \"columns\", 0: \"f_importance\"})\n",
    "print(df1)"
   ]
  },
  {
   "cell_type": "code",
   "execution_count": 56,
   "metadata": {},
   "outputs": [],
   "source": [
    "df1 =df1.sort_values('f_importance', ascending=False)"
   ]
  },
  {
   "cell_type": "code",
   "execution_count": 25,
   "metadata": {},
   "outputs": [],
   "source": [
    "# df1 = df1.rename(columns={0: \"f_importance\"})"
   ]
  },
  {
   "cell_type": "code",
   "execution_count": 26,
   "metadata": {},
   "outputs": [
    {
     "data": {
      "text/plain": [
       "Index(['columns', 'f_importance'], dtype='object')"
      ]
     },
     "execution_count": 26,
     "metadata": {},
     "output_type": "execute_result"
    }
   ],
   "source": [
    "df1.columns"
   ]
  },
  {
   "cell_type": "code",
   "execution_count": null,
   "metadata": {},
   "outputs": [],
   "source": []
  },
  {
   "cell_type": "code",
   "execution_count": 57,
   "metadata": {
    "scrolled": true
   },
   "outputs": [
    {
     "data": {
      "text/plain": [
       "Text(0.5, 1.0, 'XGBoost Feature Importance')"
      ]
     },
     "execution_count": 57,
     "metadata": {},
     "output_type": "execute_result"
    },
    {
     "data": {
      "image/png": "[encoded data removed]",
      "text/plain": [
       "<Figure size 432x288 with 1 Axes>"
      ]
     },
     "metadata": {
      "needs_background": "light"
     },
     "output_type": "display_data"
    }
   ],
   "source": [
    "#Plotting Future importance\n",
    "ax = sns.barplot(x=\"f_importance\", y=\"columns\", data=df1)\n",
    "ax.set(xlabel='Feature Importance', ylabel='Feature Names')\n",
    "ax.set_title('XGBoost Feature Importance')"
   ]
  },
  {
   "cell_type": "code",
   "execution_count": null,
   "metadata": {},
   "outputs": [],
   "source": []
  }
 ],
 "metadata": {
  "kernelspec": {
   "display_name": "Python [conda env:learn-env] *",
   "language": "python",
   "name": "conda-env-learn-env-py"
  },
  "language_info": {
   "codemirror_mode": {
    "name": "ipython",
    "version": 3
   },
   "file_extension": ".py",
   "mimetype": "text/x-python",
   "name": "python",
   "nbconvert_exporter": "python",
   "pygments_lexer": "ipython3",
   "version": "3.6.9"
  }
 },
 "nbformat": 4,
 "nbformat_minor": 2
}
